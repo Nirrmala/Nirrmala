{
  "cells": [
    {
      "cell_type": "markdown",
      "metadata": {
        "id": "C87ABSDDGaV5"
      },
      "source": [
        "# Python Basics NoteBook"
      ]
    },
    {
      "cell_type": "markdown",
      "source": [],
      "metadata": {
        "id": "oto_ot5TnvxB"
      }
    },
    {
      "cell_type": "code",
      "execution_count": null,
      "metadata": {
        "id": "WrRB8YjtGaV6",
        "colab": {
          "base_uri": "https://localhost:8080/"
        },
        "outputId": "ff7f149c-b8d5-46e0-aab4-3fde2dfa5cbf"
      },
      "outputs": [
        {
          "output_type": "stream",
          "name": "stdout",
          "text": [
            "3.10.12 (main, Nov 20 2023, 15:14:05) [GCC 11.4.0]\n"
          ]
        }
      ],
      "source": [
        "#Write a Python code to return your Python version\n",
        "import sys\n",
        "print(sys.version)"
      ]
    },
    {
      "cell_type": "code",
      "execution_count": null,
      "metadata": {
        "id": "BM0O3kItGaV7",
        "colab": {
          "base_uri": "https://localhost:8080/"
        },
        "outputId": "aaf65e7c-0a0b-4b91-913b-ba05a0770443"
      },
      "outputs": [
        {
          "output_type": "stream",
          "name": "stdout",
          "text": [
            "customer id =513\n"
          ]
        }
      ],
      "source": [
        "#Write a Python code to declare variable id=\"513\".\n",
        "#Print the following statement \"customer id =513\". [Don't use print(\"customer id =513\")]\n",
        "id=\"513\"\n",
        "#print(\"customer id =\" + id)\n",
        "#print(\"customer id ={}\".format(id))\n",
        "print(f\"customer id ={id}\")\n"
      ]
    },
    {
      "cell_type": "code",
      "execution_count": null,
      "metadata": {
        "id": "ArBLjh61GaV7",
        "colab": {
          "base_uri": "https://localhost:8080/",
          "height": 219
        },
        "outputId": "dbc271fc-3129-4f68-85a1-0d9e121417e4"
      },
      "outputs": [
        {
          "output_type": "error",
          "ename": "TypeError",
          "evalue": "can only concatenate str (not \"int\") to str",
          "traceback": [
            "\u001b[0;31m---------------------------------------------------------------------------\u001b[0m",
            "\u001b[0;31mTypeError\u001b[0m                                 Traceback (most recent call last)",
            "\u001b[0;32m<ipython-input-5-3897f66bb21b>\u001b[0m in \u001b[0;36m<cell line: 3>\u001b[0;34m()\u001b[0m\n\u001b[1;32m      1\u001b[0m \u001b[0;31m#Run the following statement, why there is an error\u001b[0m\u001b[0;34m\u001b[0m\u001b[0;34m\u001b[0m\u001b[0m\n\u001b[1;32m      2\u001b[0m \u001b[0;34m\u001b[0m\u001b[0m\n\u001b[0;32m----> 3\u001b[0;31m \u001b[0mid\u001b[0m\u001b[0;34m=\u001b[0m\u001b[0mid\u001b[0m\u001b[0;34m+\u001b[0m\u001b[0;36m1\u001b[0m\u001b[0;34m\u001b[0m\u001b[0;34m\u001b[0m\u001b[0m\n\u001b[0m\u001b[1;32m      4\u001b[0m \u001b[0;31m#can only concatenate str (not \"int\") to str\u001b[0m\u001b[0;34m\u001b[0m\u001b[0;34m\u001b[0m\u001b[0m\n\u001b[1;32m      5\u001b[0m \u001b[0;31m# type(id)\u001b[0m\u001b[0;34m\u001b[0m\u001b[0;34m\u001b[0m\u001b[0m\n",
            "\u001b[0;31mTypeError\u001b[0m: can only concatenate str (not \"int\") to str"
          ]
        }
      ],
      "source": [
        "#Run the following statement, why there is an error\n",
        "\n",
        "id=id+1\n",
        "#can only concatenate str (not \"int\") to str\n",
        "# type(id)"
      ]
    },
    {
      "cell_type": "code",
      "execution_count": null,
      "metadata": {
        "id": "3i35kWsWGaV7",
        "colab": {
          "base_uri": "https://localhost:8080/"
        },
        "outputId": "1db47f87-d5f4-4af5-ef61-6bddead86a1c"
      },
      "outputs": [
        {
          "output_type": "stream",
          "name": "stdout",
          "text": [
            "514\n"
          ]
        }
      ],
      "source": [
        "#Convert the variable id into an integer, increment it by 1.\n",
        "#Assign the result to variable new_id.\n",
        "#Print the new_id\n",
        "id=\"513\"\n",
        "new_id=int(id)\n",
        "new_id +=1\n",
        "print(new_id)\n",
        "\n",
        "\n"
      ]
    },
    {
      "cell_type": "code",
      "execution_count": null,
      "metadata": {
        "id": "CJq47IOMGaV8",
        "colab": {
          "base_uri": "https://localhost:8080/"
        },
        "outputId": "731b88d4-7f15-4f48-9193-8e5a7fe1b919"
      },
      "outputs": [
        {
          "output_type": "stream",
          "name": "stdout",
          "text": [
            "Twinkle, twinkle, little star,\n",
            "     How I wonder what you are!\n",
            "       Up above the world so high,\n",
            "            Like a diamond in the sky.\n"
          ]
        }
      ],
      "source": [
        "#Write a Python code to print the following string in a specific format (see the output).\n",
        "\n",
        "# Twinkle, twinkle, little star,\n",
        "#     How I wonder what you are!\n",
        "#        Up above the world so high,\n",
        "#            Like a diamond in the sky.\n",
        "print(\"Twinkle, twinkle, little star,\")\n",
        "print(\"     How I wonder what you are!\")\n",
        "print(\"       Up above the world so high,\")\n",
        "print(\"            Like a diamond in the sky.\")"
      ]
    },
    {
      "cell_type": "code",
      "execution_count": null,
      "metadata": {
        "id": "Y6iSpgr3GaV8",
        "colab": {
          "base_uri": "https://localhost:8080/"
        },
        "outputId": "ab3ad529-7af3-4c93-eb09-cd4158b11778"
      },
      "outputs": [
        {
          "output_type": "stream",
          "name": "stdout",
          "text": [
            "Python\n"
          ]
        }
      ],
      "source": [
        "#Givin the following string variable, # Print the first element in the string\n",
        "\n",
        "course=\"Python for Data Science\"\n",
        "split_string=course.split()\n",
        "print(split_string[0])"
      ]
    },
    {
      "cell_type": "code",
      "execution_count": null,
      "metadata": {
        "id": "EleztvO8GaV8",
        "colab": {
          "base_uri": "https://localhost:8080/"
        },
        "outputId": "7c32c08d-411f-4384-98e3-a791d8cb125e"
      },
      "outputs": [
        {
          "output_type": "stream",
          "name": "stdout",
          "text": [
            "t\n"
          ]
        }
      ],
      "source": [
        "# Print the element on the 13th index in the string\n",
        "print(course[13])\n"
      ]
    },
    {
      "cell_type": "code",
      "execution_count": null,
      "metadata": {
        "id": "5H2cvpHqGaV8",
        "colab": {
          "base_uri": "https://localhost:8080/"
        },
        "outputId": "11b92739-58b0-4541-ad3a-543c446ff81d"
      },
      "outputs": [
        {
          "output_type": "stream",
          "name": "stdout",
          "text": [
            "23\n"
          ]
        }
      ],
      "source": [
        "# Find the length of string\n",
        "print(len(course))"
      ]
    },
    {
      "cell_type": "code",
      "execution_count": null,
      "metadata": {
        "id": "8VPmyVJTGaV8",
        "colab": {
          "base_uri": "https://localhost:8080/"
        },
        "outputId": "2e56ed39-e6f5-4f72-e2eb-7b59da0bf13b"
      },
      "outputs": [
        {
          "output_type": "stream",
          "name": "stdout",
          "text": [
            "e\n"
          ]
        }
      ],
      "source": [
        "# Print the last element in the string [use negative index]\n",
        "print(course[-1])"
      ]
    },
    {
      "cell_type": "code",
      "execution_count": null,
      "metadata": {
        "id": "UXdS3hTcGaV9",
        "colab": {
          "base_uri": "https://localhost:8080/"
        },
        "outputId": "fd3f2e6a-2cbb-4e15-870f-68d409783565"
      },
      "outputs": [
        {
          "output_type": "stream",
          "name": "stdout",
          "text": [
            "Data\n"
          ]
        }
      ],
      "source": [
        "# Take the slice on variable course with only index 11 to index 14\n",
        "print(course[11:15])"
      ]
    },
    {
      "cell_type": "code",
      "execution_count": null,
      "metadata": {
        "id": "1qMwQZbEGaV9",
        "colab": {
          "base_uri": "https://localhost:8080/"
        },
        "outputId": "f6e27f8d-3dd4-4d06-8a03-b310c02b9148"
      },
      "outputs": [
        {
          "output_type": "stream",
          "name": "stdout",
          "text": [
            "Python for Data Scien\n",
            "Ph ra i\n"
          ]
        }
      ],
      "source": [
        "# Get every third element in the range from index 0 to index 20\n",
        "print(course[:21])\n",
        "print(course[0:21:3])"
      ]
    },
    {
      "cell_type": "code",
      "execution_count": null,
      "metadata": {
        "id": "scfRGWoMGaV9",
        "colab": {
          "base_uri": "https://localhost:8080/"
        },
        "outputId": "464f80ec-31fd-4e07-dda1-ddafbb950ffb"
      },
      "outputs": [
        {
          "output_type": "stream",
          "name": "stdout",
          "text": [
            "Python for Data Science, AI & Development\n"
          ]
        }
      ],
      "source": [
        "# Concatenate course string with \", AI & Development\"\n",
        "#course = \"Python for Data Science\"\n",
        "course= course + \", AI & Development\"\n",
        "print(course)"
      ]
    },
    {
      "cell_type": "code",
      "execution_count": null,
      "metadata": {
        "id": "VugXEEhHGaV9",
        "colab": {
          "base_uri": "https://localhost:8080/"
        },
        "outputId": "706b0cb3-25d4-4408-ca8b-efd472136e92"
      },
      "outputs": [
        {
          "output_type": "stream",
          "name": "stdout",
          "text": [
            "Python_for_Data_Science,_AI_&_Development\n"
          ]
        }
      ],
      "source": [
        "# Replace all the spaces with (_). New string should looks like\"Python_for_Data_Science,_AI_&_Development\"\n",
        "course=course.replace(' ','_')\n",
        "print(course)"
      ]
    },
    {
      "cell_type": "code",
      "execution_count": null,
      "metadata": {
        "id": "4Pj3eyyoGaV9",
        "colab": {
          "base_uri": "https://localhost:8080/"
        },
        "outputId": "e3738825-3e1d-4d2b-da4b-e0f598f05e44"
      },
      "outputs": [
        {
          "output_type": "stream",
          "name": "stdout",
          "text": [
            "PYTHON_FOR_DATA_SCIENCE,_AI_&_DEVELOPMENT\n"
          ]
        }
      ],
      "source": [
        "# Convert all the characters in string to upper case\n",
        "course=course.upper()\n",
        "print(course)"
      ]
    },
    {
      "cell_type": "markdown",
      "source": [
        "## Module 2: List, Tuple, Dictionary, Sets"
      ],
      "metadata": {
        "id": "M0S--cAVnyEb"
      }
    },
    {
      "cell_type": "markdown",
      "source": [
        "**1. TUPLES**"
      ],
      "metadata": {
        "id": "P5wVzPGGGtoA"
      }
    },
    {
      "cell_type": "code",
      "source": [
        "#Q1 Create myTuple tuple with the follwoing values\n",
        "#(\"NPower\",\"JDA\",\"Tuesday\",30,3,2021)\n",
        "myTuple = (\"NPower\",\"JDA\",\"Tuesday\",30,3,2021)"
      ],
      "metadata": {
        "id": "NFX3W5Hen_vE"
      },
      "execution_count": null,
      "outputs": []
    },
    {
      "cell_type": "code",
      "source": [
        "#Q2 What is the type of myTuple\n",
        "type(myTuple)"
      ],
      "metadata": {
        "colab": {
          "base_uri": "https://localhost:8080/"
        },
        "id": "AZcBNMNHqffD",
        "outputId": "d47bcc91-b086-44cb-ee25-e1f012764d02"
      },
      "execution_count": null,
      "outputs": [
        {
          "output_type": "execute_result",
          "data": {
            "text/plain": [
              "tuple"
            ]
          },
          "metadata": {},
          "execution_count": 18
        }
      ]
    },
    {
      "cell_type": "code",
      "source": [
        "#Q3 What is the length of myTuple\n",
        "len(myTuple)"
      ],
      "metadata": {
        "colab": {
          "base_uri": "https://localhost:8080/"
        },
        "id": "03daqtQxqo9w",
        "outputId": "c0ba65c9-8e66-4b01-e82c-74e656a62393"
      },
      "execution_count": null,
      "outputs": [
        {
          "output_type": "execute_result",
          "data": {
            "text/plain": [
              "6"
            ]
          },
          "metadata": {},
          "execution_count": 19
        }
      ]
    },
    {
      "cell_type": "code",
      "source": [
        "#Q4 print the values in each index #Use regular indexing\n",
        "print(\"Index\\tValue\\n\")\n",
        "for i in range(len(myTuple)):\n",
        "  print(\"{}\\t{}\".format(i,myTuple[i]))"
      ],
      "metadata": {
        "colab": {
          "base_uri": "https://localhost:8080/"
        },
        "id": "nF8zY2BVqta6",
        "outputId": "e6b6835a-b783-42fd-a081-f2546444be57"
      },
      "execution_count": null,
      "outputs": [
        {
          "output_type": "stream",
          "name": "stdout",
          "text": [
            "Index\tValue\n",
            "\n",
            "0\tNPower\n",
            "1\tJDA\n",
            "2\tTuesday\n",
            "3\t30\n",
            "4\t3\n",
            "5\t2021\n"
          ]
        }
      ]
    },
    {
      "cell_type": "code",
      "source": [
        "#Q5 print the values in each index #Use negative indexing.\n",
        "\n",
        "print(\"Index\\tValue\\n\")\n",
        "for i in range(-1,-(len(myTuple)+1),-1):\n",
        "  print(\"{}\\t{}\".format(i,myTuple[i]))"
      ],
      "metadata": {
        "colab": {
          "base_uri": "https://localhost:8080/"
        },
        "id": "f8Wp2B0XrUOS",
        "outputId": "949f7b22-7d18-411e-d5d2-f567eac08d7f"
      },
      "execution_count": null,
      "outputs": [
        {
          "output_type": "stream",
          "name": "stdout",
          "text": [
            "Index\tValue\n",
            "\n",
            "-1\t2021\n",
            "-2\t3\n",
            "-3\t30\n",
            "-4\tTuesday\n",
            "-5\tJDA\n",
            "-6\tNPower\n"
          ]
        }
      ]
    },
    {
      "cell_type": "code",
      "source": [
        "#Q6 what is the type of each value\n",
        "print(\"Index\\tValue\\tType of Value\\n\")\n",
        "for i in range(len(myTuple)):\n",
        "  print(\"{}\\t{}\\t{}\".format(i,myTuple[i],type(myTuple[i])))"
      ],
      "metadata": {
        "colab": {
          "base_uri": "https://localhost:8080/"
        },
        "id": "chl5KJCztKBE",
        "outputId": "a0f09079-3557-4e59-eff8-405082926b2a"
      },
      "execution_count": null,
      "outputs": [
        {
          "output_type": "stream",
          "name": "stdout",
          "text": [
            "Index\tValue\tType of Value\n",
            "\n",
            "0\tNPower\t<class 'str'>\n",
            "1\tJDA\t<class 'str'>\n",
            "2\tTuesday\t<class 'str'>\n",
            "3\t30\t<class 'int'>\n",
            "4\t3\t<class 'int'>\n",
            "5\t2021\t<class 'int'>\n"
          ]
        }
      ]
    },
    {
      "cell_type": "code",
      "source": [
        "#Q7 unpack myTuple in the following variables\n",
        "#name,program,dayName,month,day,year accordingly\n",
        "# print the variables\n",
        "\n",
        "(name,program,dayName,day,month,year) = myTuple\n",
        "\n",
        "print(\"Name: {}, Program:{}, Day Name:{}, Month:{}, Day:{}, Year:{}\".format(name,program,dayName,month,day,year))\n"
      ],
      "metadata": {
        "colab": {
          "base_uri": "https://localhost:8080/"
        },
        "id": "iv1FKLj4thb1",
        "outputId": "a08494e7-eae3-4333-86bd-c43508756fbc"
      },
      "execution_count": null,
      "outputs": [
        {
          "output_type": "stream",
          "name": "stdout",
          "text": [
            "Name: NPower, Program:JDA, Day Name:Tuesday, Month:3, Day:30, Year:2021\n"
          ]
        }
      ]
    },
    {
      "cell_type": "code",
      "source": [
        "#Q8 unpack myTuple2 in the follwoeing variables name,program,dayName.\n",
        "# What will happen to variables (name,program,dayName) and (month,day,year)\n"
      ],
      "metadata": {
        "id": "qPwHo8yHuUSv"
      },
      "execution_count": null,
      "outputs": []
    },
    {
      "cell_type": "code",
      "source": [
        "# Note the following\n",
        "Tuple1=(\"Jerry\",2,89) #This is a tuple with 3 elements\n",
        "Tuple2=(\"Ulan\",)#This is a tuple with 1 element\n",
        "test=\"Leul\" #This is a VARIABLE with string value\n",
        "\n",
        "a,b,c=Tuple1\n",
        "print(\"Type a\",type(a))\n",
        "print(a,b,c)\n",
        "\n",
        "d=Tuple2\n",
        "print(type(d))\n",
        "print(d)\n",
        "\n",
        "e=test\n",
        "print(e)"
      ],
      "metadata": {
        "colab": {
          "base_uri": "https://localhost:8080/"
        },
        "id": "Gpyakm_Xu3Pd",
        "outputId": "8a16668c-b4ab-4cd8-d1a4-596f989d7ce6"
      },
      "execution_count": null,
      "outputs": [
        {
          "output_type": "stream",
          "name": "stdout",
          "text": [
            "Type a <class 'str'>\n",
            "Jerry 2 89\n",
            "<class 'tuple'>\n",
            "('Ulan',)\n",
            "Leul\n"
          ]
        }
      ]
    },
    {
      "cell_type": "code",
      "source": [
        "#Tuples are immutable\n",
        "#we can always make the testTuple variable reference a new tuple in the memory\n",
        "#and hold a different information\n",
        "\n",
        "testTuple=(1,2,3)\n",
        "print(testTuple)\n",
        "\n",
        "testTuple=(4,5,6)\n",
        "print(testTuple)\n",
        "\n",
        "#But we can't change or edit a value for the existing tuple\n",
        "\n",
        "testTuple[0]=6 #ERROR 'tuple' object does not support item assignment\n",
        "\n"
      ],
      "metadata": {
        "colab": {
          "base_uri": "https://localhost:8080/",
          "height": 237
        },
        "id": "gvBoLVmNvnDo",
        "outputId": "ed3efcb5-5ad6-4d06-f68e-ecf85f83e716"
      },
      "execution_count": null,
      "outputs": [
        {
          "output_type": "stream",
          "name": "stdout",
          "text": [
            "(1, 2, 3)\n",
            "(4, 5, 6)\n"
          ]
        },
        {
          "output_type": "error",
          "ename": "TypeError",
          "evalue": "'tuple' object does not support item assignment",
          "traceback": [
            "\u001b[0;31m---------------------------------------------------------------------------\u001b[0m",
            "\u001b[0;31mTypeError\u001b[0m                                 Traceback (most recent call last)",
            "\u001b[0;32m<ipython-input-27-4159d04daa2f>\u001b[0m in \u001b[0;36m<cell line: 13>\u001b[0;34m()\u001b[0m\n\u001b[1;32m     11\u001b[0m \u001b[0;31m#But we can't change or edit a value for the existing tuple\u001b[0m\u001b[0;34m\u001b[0m\u001b[0;34m\u001b[0m\u001b[0m\n\u001b[1;32m     12\u001b[0m \u001b[0;34m\u001b[0m\u001b[0m\n\u001b[0;32m---> 13\u001b[0;31m \u001b[0mtestTuple\u001b[0m\u001b[0;34m[\u001b[0m\u001b[0;36m0\u001b[0m\u001b[0;34m]\u001b[0m\u001b[0;34m=\u001b[0m\u001b[0;36m6\u001b[0m \u001b[0;31m#ERROR 'tuple' object does not support item assignment\u001b[0m\u001b[0;34m\u001b[0m\u001b[0;34m\u001b[0m\u001b[0m\n\u001b[0m\u001b[1;32m     14\u001b[0m \u001b[0;34m\u001b[0m\u001b[0m\n",
            "\u001b[0;31mTypeError\u001b[0m: 'tuple' object does not support item assignment"
          ]
        }
      ]
    },
    {
      "cell_type": "code",
      "source": [
        "#Q9 Reverse myTuple, output should looks like\n",
        "#(2021,3,30,\"Tuesday\",\"JDA\",\"NPower\")\n",
        "\n",
        "myTuple_reversed = tuple(reversed(myTuple))\n",
        "print(\"myTuple is : \",myTuple)\n",
        "print(\"myTuple_reversed is : \", myTuple_reversed)"
      ],
      "metadata": {
        "colab": {
          "base_uri": "https://localhost:8080/"
        },
        "id": "bC3iG_jKv69P",
        "outputId": "893aed1a-511e-4a58-ad17-6789189343f7"
      },
      "execution_count": null,
      "outputs": [
        {
          "output_type": "stream",
          "name": "stdout",
          "text": [
            "myTuple is :  ('NPower', 'JDA', 'Tuesday', 30, 3, 2021)\n",
            "myTuple_reversed is :  (2021, 3, 30, 'Tuesday', 'JDA', 'NPower')\n"
          ]
        }
      ]
    },
    {
      "cell_type": "code",
      "source": [
        "#Q10 Create nestedTuple=((\"Coursera\",\"course\",6),(\"week\",(2,\"Lists\",\"Tuple\")))\n",
        "nestedTuple=((\"Coursera\",\"course\",6),(\"week\",(2,\"Lists\",\"Tuple\")))\n",
        "nestedTuple"
      ],
      "metadata": {
        "colab": {
          "base_uri": "https://localhost:8080/"
        },
        "id": "BotsL1oGwqDY",
        "outputId": "9bdcf1a3-4450-44be-b223-a6b270f9b0a7"
      },
      "execution_count": null,
      "outputs": [
        {
          "output_type": "execute_result",
          "data": {
            "text/plain": [
              "(('Coursera', 'course', 6), ('week', (2, 'Lists', 'Tuple')))"
            ]
          },
          "metadata": {},
          "execution_count": 29
        }
      ]
    },
    {
      "cell_type": "code",
      "source": [
        "#Q11 What is the output of nestedTuple[1:2]\n",
        "nestedTuple[1:2]"
      ],
      "metadata": {
        "colab": {
          "base_uri": "https://localhost:8080/"
        },
        "id": "riJqIGAFwwjl",
        "outputId": "7b8e6a0c-c793-4832-8ecf-8f6863681315"
      },
      "execution_count": null,
      "outputs": [
        {
          "output_type": "execute_result",
          "data": {
            "text/plain": [
              "(('week', (2, 'Lists', 'Tuple')),)"
            ]
          },
          "metadata": {},
          "execution_count": 30
        }
      ]
    },
    {
      "cell_type": "code",
      "source": [
        "#Q12 print each element in the nestedTuple\n",
        "print(f\"Nested Tuple is {nestedTuple} \\n\")\n",
        "print(f\"Elements of Nested Tuple are:\\n\")\n",
        "for i in nestedTuple:\n",
        "  print(i)\n",
        "\n",
        "# EXTRA:\n",
        "\n",
        "print(f\"\\nIndividual Elements of Nested Tuple are:\\n\")\n",
        "\n",
        "#STEP 1 - Create a recursive function\n",
        "def iterate(collection):\n",
        "  for element in collection:\n",
        "    #print(element)\n",
        "    if(type(element) is list or type(element) is dict or type(element) is tuple):\n",
        "      iterate(element)\n",
        "    else:\n",
        "      x.append(element)\n",
        "      #print(x)\n",
        "  #print(x)\n",
        "  return x\n",
        "\n",
        "#STEP 2 - Use loop to iterate and print\n",
        "x = []\n",
        "for i in nestedTuple:\n",
        "  output = []\n",
        "  #print(i)\n",
        "  if(type(i) is list or type(i) is dict or type(i) is tuple):\n",
        "    x = iterate(i)\n",
        "    for j in x:\n",
        "      #print(j)\n",
        "      output.append(j)\n",
        "      #print(output)\n",
        "  else:\n",
        "    output.append(i)\n",
        "    #print(output)\n",
        "\n",
        "for i in output:\n",
        "  print(i)\n"
      ],
      "metadata": {
        "colab": {
          "base_uri": "https://localhost:8080/"
        },
        "id": "kXEbur0Pw3w-",
        "outputId": "b4246728-4d3c-4226-b3a7-c60903981966"
      },
      "execution_count": null,
      "outputs": [
        {
          "output_type": "stream",
          "name": "stdout",
          "text": [
            "Nested Tuple is (('Coursera', 'course', 6), ('week', (2, 'Lists', 'Tuple'))) \n",
            "\n",
            "Elements of Nested Tuple are:\n",
            "\n",
            "('Coursera', 'course', 6)\n",
            "('week', (2, 'Lists', 'Tuple'))\n",
            "\n",
            "Individual Elements of Nested Tuple are:\n",
            "\n",
            "Coursera\n",
            "course\n",
            "6\n",
            "week\n",
            "2\n",
            "Lists\n",
            "Tuple\n"
          ]
        }
      ]
    },
    {
      "cell_type": "code",
      "source": [
        "#Q13 Access (2,\"Lists\",\"Tuple\") from nestedTuple\n",
        "print(nestedTuple[1][1])"
      ],
      "metadata": {
        "colab": {
          "base_uri": "https://localhost:8080/"
        },
        "id": "SYNbje7V_B7P",
        "outputId": "3c031761-6eab-4f21-c747-41440ee80efd"
      },
      "execution_count": null,
      "outputs": [
        {
          "output_type": "stream",
          "name": "stdout",
          "text": [
            "(2, 'Lists', 'Tuple')\n"
          ]
        }
      ]
    },
    {
      "cell_type": "code",
      "source": [
        "#Q14 Access the value \"Lists\" from nestedTuple\n",
        "print(nestedTuple[1][1][1])"
      ],
      "metadata": {
        "colab": {
          "base_uri": "https://localhost:8080/"
        },
        "id": "B0AcxjXyGaV4",
        "outputId": "8d47c594-6bca-41bb-f376-e73fb0296fa5"
      },
      "execution_count": null,
      "outputs": [
        {
          "output_type": "stream",
          "name": "stdout",
          "text": [
            "Lists\n"
          ]
        }
      ]
    },
    {
      "cell_type": "code",
      "source": [
        "#Q15 Access the value \"Tuple\" from nestedTuple\n",
        "print(nestedTuple[1][1][2])"
      ],
      "metadata": {
        "colab": {
          "base_uri": "https://localhost:8080/"
        },
        "id": "WQtZwOQkGgg4",
        "outputId": "32bb4e3b-fa27-4207-ee60-f0e6f2cba79b"
      },
      "execution_count": null,
      "outputs": [
        {
          "output_type": "stream",
          "name": "stdout",
          "text": [
            "Tuple\n"
          ]
        }
      ]
    },
    {
      "cell_type": "code",
      "source": [
        "#Q16 Access the value \"course\" from nestedTuple\n",
        "print(nestedTuple[0][1])"
      ],
      "metadata": {
        "colab": {
          "base_uri": "https://localhost:8080/"
        },
        "id": "ZKoUZejPG1EO",
        "outputId": "6397c3f4-bbff-48a8-efa6-05a98fdad64b"
      },
      "execution_count": null,
      "outputs": [
        {
          "output_type": "stream",
          "name": "stdout",
          "text": [
            "course\n"
          ]
        }
      ]
    },
    {
      "cell_type": "code",
      "source": [
        "#Q17 Concatenate myTuple with nestedTuple\n",
        "myTuple += nestedTuple\n",
        "print(myTuple)"
      ],
      "metadata": {
        "colab": {
          "base_uri": "https://localhost:8080/"
        },
        "id": "QsqdOvRgG7b0",
        "outputId": "d7474479-6564-4d36-ae7e-ce9e74596174"
      },
      "execution_count": null,
      "outputs": [
        {
          "output_type": "stream",
          "name": "stdout",
          "text": [
            "('NPower', 'JDA', 'Tuesday', 30, 3, 2021, ('Coursera', 'course', 6), ('week', (2, 'Lists', 'Tuple')))\n"
          ]
        }
      ]
    },
    {
      "cell_type": "code",
      "source": [
        "#Q18 add your name to the tuple\n",
        "myTuple+= ('Group 1',) # need to add comma to make it singleton tuple\n",
        "print(myTuple)"
      ],
      "metadata": {
        "colab": {
          "base_uri": "https://localhost:8080/"
        },
        "id": "zv_vL_W9HG_o",
        "outputId": "51bf5a7e-5752-4e8f-c15d-bbbe8f9b997f"
      },
      "execution_count": null,
      "outputs": [
        {
          "output_type": "stream",
          "name": "stdout",
          "text": [
            "('NPower', 'JDA', 'Tuesday', 30, 3, 2021, ('Coursera', 'course', 6), ('week', (2, 'Lists', 'Tuple')), 'Group 1')\n"
          ]
        }
      ]
    },
    {
      "cell_type": "code",
      "source": [
        "#Q19 check whether Coursera exists within  myTuple. NOTE \"in\" doesn't work properly with nested tuples\n",
        "\n",
        "print(f\"myTuple is :{myTuple}\\n\")\n",
        "wordToFind = \"Coursera\"\n",
        "sampleTuple = ('NPower', 'JDA', 'Tuesday', 30, 3, 2021, ([{'Coursera':123},123,'ABC'], 'course', 6), ('week', (2, 'Lists', 'Tuple')), 'Group 1')\n",
        "# any() function => Returns True if any item in an iterable are true, otherwise it returns False.\n",
        "# if any(wordToFind in str(i) for i in sampleTuple):\n",
        "#         print(f\"{wordToFind} exists in myTuple\")\n",
        "# else:\n",
        "#   print(f\"{wordToFind} does not exist in myTuple\")\n",
        "\n",
        "def check_coursera_exists(tup):\n",
        "    for item in tup:\n",
        "        if isinstance(item, tuple):\n",
        "            if 'Coursera' in item:\n",
        "                return True\n",
        "            else:\n",
        "                if check_coursera_exists(item):\n",
        "                    return True\n",
        "        elif item == 'Coursera':\n",
        "            return True\n",
        "    return False\n",
        "\n",
        "if(check_coursera_exists(myTuple)):\n",
        "  print(\"Coursera exists in myTuple\")\n",
        "else:\n",
        "  print(\"Coursera does not exist in myTuple\")"
      ],
      "metadata": {
        "colab": {
          "base_uri": "https://localhost:8080/"
        },
        "id": "uJK6CupeKt5y",
        "outputId": "976eaeca-d950-4a75-ab3f-2c605c18478b"
      },
      "execution_count": null,
      "outputs": [
        {
          "output_type": "stream",
          "name": "stdout",
          "text": [
            "myTuple is :('NPower', 'JDA', 'Tuesday', 30, 3, 2021, ('Coursera', 'course', 6), ('week', (2, 'Lists', 'Tuple')), 'Group 1')\n",
            "\n",
            "Coursera exists in myTuple\n"
          ]
        }
      ]
    },
    {
      "cell_type": "code",
      "source": [
        "#Q20 check whether 55 exists within testTuple\n",
        "testTuple=(1,2,33,55,6,55)\n",
        "var = 55\n",
        "\n",
        "if(var in testTuple):\n",
        "    print(f\"{var} exists in testTuple\")\n",
        "else:\n",
        "  print(f\"{var} does not exist in testTuple\")\n"
      ],
      "metadata": {
        "colab": {
          "base_uri": "https://localhost:8080/"
        },
        "id": "j76j7h5MVW4s",
        "outputId": "9d548ba0-5b97-41bf-adcb-d7297b6d179c"
      },
      "execution_count": null,
      "outputs": [
        {
          "output_type": "stream",
          "name": "stdout",
          "text": [
            "55 exists in testTuple\n"
          ]
        }
      ]
    },
    {
      "cell_type": "code",
      "source": [
        "#Q21 Find the index of JDA in myTuple . # NOTE index doesn't work properly with nested tuples # Wrong output\n",
        "print(myTuple)\n",
        "\n",
        "# index1 = myTuple.index(\"JDA\")\n",
        "# print(f\"Index is {index1}\")\n",
        "\n",
        "# Find the index of 'Coursera' in myTuple\n",
        "\n",
        "def find_index(tup, item):\n",
        "    for i, value in enumerate(tup):\n",
        "        if value == item:\n",
        "            return i\n",
        "        elif isinstance(value, tuple):\n",
        "            nested_index = find_index(value, item)\n",
        "            #print(nested_index)\n",
        "            if nested_index is not None:\n",
        "                return (i,) + (nested_index,)\n",
        "    return None\n",
        "\n",
        "index = find_index(myTuple, 'Coursera')\n",
        "print(index)\n"
      ],
      "metadata": {
        "colab": {
          "base_uri": "https://localhost:8080/"
        },
        "id": "XMI-BQN1ZW5Z",
        "outputId": "3712735c-a6a8-41ac-cc0b-a2cb2d02ce3a"
      },
      "execution_count": null,
      "outputs": [
        {
          "output_type": "stream",
          "name": "stdout",
          "text": [
            "('NPower', 'JDA', 'Tuesday', 30, 3, 2021, ('Coursera', 'course', 6), ('week', (2, 'Lists', 'Tuple')), 'Group 1')\n",
            "(6, 0)\n"
          ]
        }
      ]
    },
    {
      "cell_type": "code",
      "source": [
        "#Q22 print index 8 from myTuple\n",
        "print(myTuple[8])"
      ],
      "metadata": {
        "colab": {
          "base_uri": "https://localhost:8080/"
        },
        "id": "U8QsoSn6cgjO",
        "outputId": "8d5733d2-08d5-48dc-9eb7-8c4b1c6a4552"
      },
      "execution_count": null,
      "outputs": [
        {
          "output_type": "stream",
          "name": "stdout",
          "text": [
            "Group 1\n"
          ]
        }
      ]
    },
    {
      "cell_type": "code",
      "source": [
        "#Q23 Get the 4th element from the begining of myTuple\n",
        "#and 4th element from last of a myTuple\n",
        "print(f\"4th element from the begining of myTuple is : {myTuple[3]}\")\n",
        "print(f\"4th element from the end of myTuple is : {myTuple[-4]}\")"
      ],
      "metadata": {
        "colab": {
          "base_uri": "https://localhost:8080/"
        },
        "id": "ii5ZGyllcory",
        "outputId": "36990547-9024-4f4c-8993-f8adc3a18865"
      },
      "execution_count": null,
      "outputs": [
        {
          "output_type": "stream",
          "name": "stdout",
          "text": [
            "4th element from the begining of myTuple is : 30\n",
            "4th element from the end of myTuple is : 2021\n"
          ]
        }
      ]
    },
    {
      "cell_type": "code",
      "source": [
        "#Q24 Find how many times 55 appeared in testTuple [Hint: Use method count()]\n",
        "x = myTuple.count(55)\n",
        "print(x)"
      ],
      "metadata": {
        "colab": {
          "base_uri": "https://localhost:8080/"
        },
        "id": "Q9lQDJj8dGWI",
        "outputId": "6955a676-15ac-4163-9592-86414d98fa06"
      },
      "execution_count": null,
      "outputs": [
        {
          "output_type": "stream",
          "name": "stdout",
          "text": [
            "0\n"
          ]
        }
      ]
    },
    {
      "cell_type": "markdown",
      "source": [
        "**2. Lists**"
      ],
      "metadata": {
        "id": "tD0L-0swq21M"
      }
    },
    {
      "cell_type": "code",
      "source": [
        "#Q1 Create a tuple with all participant names in the JDA program\n",
        "participantTuple = (\"Nirrmala\",\"Delina\",\"Arvind\",\"Meron\",\"Amal\",\"Samual\",\"Tahani\",\"Rithu\",\"anurudhran\",\"Neha\",\"Lalitha\",\"Meena\",\"Nicolas\",\"Chris\",\"Ankitha\",\"Astha\",\"tolga\",\"Nishanthan\",\"Bhanu\")\n",
        "print(participantTuple)\n"
      ],
      "metadata": {
        "id": "O9flwN9Pq415",
        "colab": {
          "base_uri": "https://localhost:8080/"
        },
        "outputId": "c6bbf0a8-d8af-4e07-9ec6-768373e28951"
      },
      "execution_count": null,
      "outputs": [
        {
          "output_type": "stream",
          "name": "stdout",
          "text": [
            "('Nirrmala', 'Delina', 'Arvind', 'Meron', 'Amal', 'Samual', 'Tahani', 'Rithu', 'anurudhran', 'Neha', 'Lalitha', 'Meena', 'Nicolas', 'Chris', 'Ankitha', 'Astha', 'tolga', 'Nishanthan', 'Bhanu')\n"
          ]
        }
      ]
    },
    {
      "cell_type": "code",
      "source": [],
      "metadata": {
        "id": "PPX8pkRYN-Mc"
      },
      "execution_count": null,
      "outputs": []
    },
    {
      "cell_type": "code",
      "source": [
        "#Q2 Convert the tuple into a list called pps_L\n",
        "pps_L = list(participantTuple)\n",
        "print(pps_L)\n"
      ],
      "metadata": {
        "id": "2bgov0FsN-Zg"
      },
      "execution_count": null,
      "outputs": []
    },
    {
      "cell_type": "code",
      "source": [
        "#Q3 What is the length of your list\n",
        "print(len(pps_L))\n",
        "\n"
      ],
      "metadata": {
        "id": "2b1JWL9MOIZg"
      },
      "execution_count": null,
      "outputs": []
    },
    {
      "cell_type": "code",
      "source": [
        "#Q4 Find the values stored in indexes [3],[5],[14],[30],[38]\n",
        "print(pps_L[3])\n",
        "print(pps_L[5])\n",
        "print(pps_L[14])\n",
        "#print(pps_L[30])\n",
        "#print(pps_L[38])"
      ],
      "metadata": {
        "id": "EPkTML_UOPaU"
      },
      "execution_count": null,
      "outputs": []
    },
    {
      "cell_type": "code",
      "source": [
        "#Q5 Check if \"Sarah\" is in the list\n",
        "print(pps_L)\n",
        "if \"sharah\" in pps_L:\n",
        "    print(\"sharah is in the list\")\n",
        "else:\n",
        "    print(\"sharah is not in the list\")\n"
      ],
      "metadata": {
        "id": "WYUj1bumOXEj"
      },
      "execution_count": null,
      "outputs": []
    },
    {
      "cell_type": "code",
      "source": [
        "#Q6 Add \"Sarah\" to your list\n",
        "#print(pps_L,\"\\n\")\n",
        "pps_L.append(\"Sarah\")\n",
        "print(pps_L)"
      ],
      "metadata": {
        "id": "D7KgLMtvOazj"
      },
      "execution_count": null,
      "outputs": []
    },
    {
      "cell_type": "code",
      "source": [
        "#Q7 Check if \"Bashir\" is in the list\n",
        "#print(pps_L)\n",
        "if \"Bashir\" in pps_L:\n",
        "    print(\"Bashir is in the list\")\n",
        "else:\n",
        "    print(\"Bashir is not in the list\")\n"
      ],
      "metadata": {
        "id": "1MhIXZIAOb9O"
      },
      "execution_count": null,
      "outputs": []
    },
    {
      "cell_type": "code",
      "source": [
        "#Q9 Add \"Bashir\" to your list\n",
        "pps_L.append(\"Bashir\")\n",
        "print(pps_L)"
      ],
      "metadata": {
        "id": "wqKZt0dcOfQy"
      },
      "execution_count": null,
      "outputs": []
    },
    {
      "cell_type": "code",
      "source": [
        "#Q10 Find the index of the element \"Sarah\" in the list\n",
        "\n",
        "print(pps_L.index(\"Sarah\"))"
      ],
      "metadata": {
        "id": "sXCW80XLOmSC"
      },
      "execution_count": null,
      "outputs": []
    },
    {
      "cell_type": "code",
      "source": [
        "#Q11 Change the value of the index in Q10 from \"Sarah\" to \"Instructor\"\n",
        "sarah_index = pps_L.index(\"Sarah\")\n",
        "pps_L[sarah_index] = \"Instructor\"\n",
        "print(sarah_index)\n",
        "print(pps_L)\n",
        "\n"
      ],
      "metadata": {
        "id": "ReysOnPiOrAe"
      },
      "execution_count": null,
      "outputs": []
    },
    {
      "cell_type": "code",
      "source": [
        "#Q12 Find the index of the element \"Bashir\" in the list\n",
        "print(pps_L.index(\"Bashir\"))"
      ],
      "metadata": {
        "id": "Z3iBl-gMOu45"
      },
      "execution_count": null,
      "outputs": []
    },
    {
      "cell_type": "code",
      "source": [
        "#Q13 Change the value of the index in Q12 from \"Bashir\" to \"Peer-Mentor\"\n",
        "Bashir_index = pps_L.index(\"Bashir\")\n",
        "pps_L[Bashir_index] = \"Peer-Mentor\"\n",
        "print(\"Index of Peer-Mentor is :\",pps_L.index(\"Peer-Mentor\"))\n"
      ],
      "metadata": {
        "id": "paorpZtuOvzD"
      },
      "execution_count": null,
      "outputs": []
    },
    {
      "cell_type": "markdown",
      "source": [
        "### 3. **Dictionary**"
      ],
      "metadata": {
        "id": "riKDdubb2lyG"
      }
    },
    {
      "cell_type": "code",
      "source": [
        "#Q1 Create a dictionary for all participants in the JDA program.\n",
        "#Keys should be the first letter in their names, Values should be their names.\n",
        "#[Hint] dic={\"l\":(Leul),\"J\":(Jerry,Jainam)........}\n",
        "Dict = {\"L\": \"Leul\", \"J\": \"Jerry, Jainam\", \"A\": \"Arvind, Amil\", \"T\": \"Tahani\", \"N\": \"Nirrmala\", \"S\": \"Samuel\", \"D\": \"Delina\", \"M\": \"Meron\"}\n",
        "Dict"
      ],
      "metadata": {
        "colab": {
          "base_uri": "https://localhost:8080/"
        },
        "id": "rSnmQBfl2ur-",
        "outputId": "455a031b-f507-49e0-971e-61732ba03fe6"
      },
      "execution_count": null,
      "outputs": [
        {
          "output_type": "execute_result",
          "data": {
            "text/plain": [
              "{'L': 'Leul',\n",
              " 'J': 'Jerry, Jainam',\n",
              " 'A': 'Arvind, Amil',\n",
              " 'T': 'Tahani',\n",
              " 'N': 'Nirrmala',\n",
              " 'S': 'Samuel',\n",
              " 'D': 'Delina',\n",
              " 'M': 'Meron'}"
            ]
          },
          "metadata": {},
          "execution_count": 1
        }
      ]
    },
    {
      "cell_type": "code",
      "source": [
        "#Q2 What are the keys of your dictionary\n",
        "participants = {\"L\": \"Leul\", \"J\": \"Jerry, Jainam\", \"A\": \"Arvind, Amil\", \"T\": \"Tahani\", \"N\": \"Nirrmala\", \"S\": \"Samuel\", \"D\": \"Delina\", \"M\": \"Meron\"}\n",
        "participants.keys()"
      ],
      "metadata": {
        "colab": {
          "base_uri": "https://localhost:8080/"
        },
        "id": "QPr0kcpd23Qn",
        "outputId": "72b6aee9-f067-40cc-d55d-c4426b786c9c"
      },
      "execution_count": null,
      "outputs": [
        {
          "output_type": "execute_result",
          "data": {
            "text/plain": [
              "dict_keys(['L', 'J', 'A', 'T', 'N', 'S', 'D', 'M'])"
            ]
          },
          "metadata": {},
          "execution_count": 2
        }
      ]
    },
    {
      "cell_type": "code",
      "source": [
        "#Q3 What are the values of your dictionary\n",
        "participants.values()"
      ],
      "metadata": {
        "colab": {
          "base_uri": "https://localhost:8080/"
        },
        "id": "ZpwqkVx-3Bvt",
        "outputId": "39c54fe3-ba7d-4270-bf24-56aa7df0ac31"
      },
      "execution_count": null,
      "outputs": [
        {
          "output_type": "execute_result",
          "data": {
            "text/plain": [
              "dict_values(['Leul', 'Jerry, Jainam', 'Arvind, Amil', 'Tahani', 'Nirrmala', 'Samuel', 'Delina', 'Meron'])"
            ]
          },
          "metadata": {},
          "execution_count": 3
        }
      ]
    },
    {
      "cell_type": "code",
      "source": [
        "#Q4 Find participant's names that start with J,I,M,C,A\n",
        "letters_to_search = ['J', 'I', 'M', 'C', 'A']\n",
        "found_names = [name.strip()\n",
        "  for letter in letters_to_search\n",
        "               if letter in participants\n",
        "  for name in participants[letter].split(', ')]\n",
        "print(found_names)"
      ],
      "metadata": {
        "colab": {
          "base_uri": "https://localhost:8080/"
        },
        "id": "95oyzuGl3Ls3",
        "outputId": "3de54387-7a65-4f37-ccd3-40a9441d06fa"
      },
      "execution_count": null,
      "outputs": [
        {
          "output_type": "stream",
          "name": "stdout",
          "text": [
            "['Jerry', 'Jainam', 'Meron', 'Arvind', 'Amil']\n"
          ]
        }
      ]
    },
    {
      "cell_type": "code",
      "source": [
        "#Q5 Add the following to your dictionary\n",
        "# Key<(K,PD)>, Value<(Kristina)>\n",
        "participants['K','PD'] = \"Kristina\"\n",
        "participants"
      ],
      "metadata": {
        "colab": {
          "base_uri": "https://localhost:8080/"
        },
        "id": "Gg4yZUZ93S_w",
        "outputId": "90c04965-da08-421a-c585-7db34017107f"
      },
      "execution_count": null,
      "outputs": [
        {
          "output_type": "execute_result",
          "data": {
            "text/plain": [
              "{'L': 'Leul',\n",
              " 'J': 'Jerry, Jainam',\n",
              " 'A': 'Arvind, Amil',\n",
              " 'T': 'Tahani',\n",
              " 'N': 'Nirrmala',\n",
              " 'S': 'Samuel',\n",
              " 'D': 'Delina',\n",
              " 'M': 'Meron',\n",
              " ('K', 'PD'): 'Kristina'}"
            ]
          },
          "metadata": {},
          "execution_count": 5
        }
      ]
    },
    {
      "cell_type": "code",
      "source": [
        "#Q6 Find the length of your dictionary\n",
        "len(participants)"
      ],
      "metadata": {
        "colab": {
          "base_uri": "https://localhost:8080/"
        },
        "id": "-0anGWIq3bbn",
        "outputId": "58658ef9-23cc-435f-dfe1-c1bd2d9be416"
      },
      "execution_count": null,
      "outputs": [
        {
          "output_type": "execute_result",
          "data": {
            "text/plain": [
              "9"
            ]
          },
          "metadata": {},
          "execution_count": 6
        }
      ]
    },
    {
      "cell_type": "code",
      "source": [
        "#Q7 Add the following to your dictionary\n",
        "# Key<(S,Instructor)>, Value<(Sarah)>\n",
        "participants['S','Instructor'] = \"Sarah\"\n",
        "participants"
      ],
      "metadata": {
        "colab": {
          "base_uri": "https://localhost:8080/"
        },
        "id": "-o8yiN913gMm",
        "outputId": "4e724aa4-9dbe-48fe-9aab-89f17e5d3a62"
      },
      "execution_count": null,
      "outputs": [
        {
          "output_type": "execute_result",
          "data": {
            "text/plain": [
              "{'L': 'Leul',\n",
              " 'J': 'Jerry, Jainam',\n",
              " 'A': 'Arvind, Amil',\n",
              " 'T': 'Tahani',\n",
              " 'N': 'Nirrmala',\n",
              " 'S': 'Samuel',\n",
              " 'D': 'Delina',\n",
              " 'M': 'Meron',\n",
              " ('K', 'PD'): 'Kristina',\n",
              " ('S', 'Instructor'): 'Sarah'}"
            ]
          },
          "metadata": {},
          "execution_count": 7
        }
      ]
    },
    {
      "cell_type": "code",
      "source": [
        "#Q8 Find the length of your dictionary\n",
        "len(participants)"
      ],
      "metadata": {
        "colab": {
          "base_uri": "https://localhost:8080/"
        },
        "id": "eVY5jIqs3mLn",
        "outputId": "309957e6-289a-409e-db74-963797259ada"
      },
      "execution_count": null,
      "outputs": [
        {
          "output_type": "execute_result",
          "data": {
            "text/plain": [
              "10"
            ]
          },
          "metadata": {},
          "execution_count": 8
        }
      ]
    },
    {
      "cell_type": "code",
      "source": [
        "#Q7 Delete the following keys from your dictionary\n",
        "#Key<(S,Instructor)>\n",
        "#Key<J>\n",
        "keys_to_delete = [('S', 'Instructor'), 'J']\n",
        "for key in keys_to_delete:\n",
        "    if key in participants:\n",
        "        del participants[key]\n",
        "print(participants)"
      ],
      "metadata": {
        "colab": {
          "base_uri": "https://localhost:8080/"
        },
        "id": "LEPKbl6Z33hr",
        "outputId": "ce12c661-2f44-42df-e867-9089b77fd22f"
      },
      "execution_count": null,
      "outputs": [
        {
          "output_type": "stream",
          "name": "stdout",
          "text": [
            "{'L': 'Leul', 'A': 'Arvind, Amil', 'T': 'Tahani', 'N': 'Nirrmala', 'S': 'Samuel', 'D': 'Delina', 'M': 'Meron', ('K', 'PD'): 'Kristina'}\n"
          ]
        }
      ]
    },
    {
      "cell_type": "code",
      "source": [
        "#Q9 Find the length of your dictionary\n",
        "len(participants)"
      ],
      "metadata": {
        "colab": {
          "base_uri": "https://localhost:8080/"
        },
        "id": "9Ac8FdOA36aW",
        "outputId": "d226065c-c8db-4d68-c938-acae85e5a46b"
      },
      "execution_count": null,
      "outputs": [
        {
          "output_type": "execute_result",
          "data": {
            "text/plain": [
              "8"
            ]
          },
          "metadata": {},
          "execution_count": 10
        }
      ]
    },
    {
      "cell_type": "code",
      "source": [
        "#Q10 Create a new dictionary called synonyms_dic\n",
        "synonyms_dic={}\n",
        "synonyms_dic"
      ],
      "metadata": {
        "colab": {
          "base_uri": "https://localhost:8080/"
        },
        "id": "N2QBVYQ64B6F",
        "outputId": "101faf7e-11d5-467b-dbff-9b73b5aa44dd"
      },
      "execution_count": null,
      "outputs": [
        {
          "output_type": "execute_result",
          "data": {
            "text/plain": [
              "{}"
            ]
          },
          "metadata": {},
          "execution_count": 11
        }
      ]
    },
    {
      "cell_type": "code",
      "source": [
        "#Q11 Add the synonyms of the following words to your dictionary\n",
        "#Bad, Good, Awesome, Cold, Easy, Hard, Big, Small\n",
        "synonyms_dic[\"Bad\"] = [\"Awful\", \"Terrible\", \"Poor\", \"Negative\"]\n",
        "synonyms_dic[\"Good\"] = [\"Excellent\", \"Great\", \"Fine\", \"Superb\"]\n",
        "synonyms_dic[\"Awesome\"] = [\"Amazing\", \"Fantastic\", \"Incredible\", \"Outstanding\"]\n",
        "synonyms_dic[\"Cold\"] = [\"Chilly\", \"Frigid\", \"Freezing\", \"Icy\"]\n",
        "synonyms_dic[\"Easy\"] = [\"Simple\", \"Effortless\", \"Uncomplicated\", \"Straightforward\"]\n",
        "synonyms_dic[\"Hard\"] = [\"Difficult\", \"Challenging\", \"Tough\", \"Demanding\"]\n",
        "synonyms_dic[\"Big\"] = [\"Large\", \"Huge\", \"Gigantic\", \"Massive\"]\n",
        "synonyms_dic[\"Small\"] = [\"Little\", \"Tiny\", \"Miniature\", \"Petite\"]\n",
        "synonyms_dic"
      ],
      "metadata": {
        "colab": {
          "base_uri": "https://localhost:8080/"
        },
        "id": "4aUghzrg4HXf",
        "outputId": "4645faad-5a74-41cb-e338-753b5a39d049"
      },
      "execution_count": null,
      "outputs": [
        {
          "output_type": "execute_result",
          "data": {
            "text/plain": [
              "{'Bad': ['Awful', 'Terrible', 'Poor', 'Negative'],\n",
              " 'Good': ['Excellent', 'Great', 'Fine', 'Superb'],\n",
              " 'Awesome': ['Amazing', 'Fantastic', 'Incredible', 'Outstanding'],\n",
              " 'Cold': ['Chilly', 'Frigid', 'Freezing', 'Icy'],\n",
              " 'Easy': ['Simple', 'Effortless', 'Uncomplicated', 'Straightforward'],\n",
              " 'Hard': ['Difficult', 'Challenging', 'Tough', 'Demanding'],\n",
              " 'Big': ['Large', 'Huge', 'Gigantic', 'Massive'],\n",
              " 'Small': ['Little', 'Tiny', 'Miniature', 'Petite']}"
            ]
          },
          "metadata": {},
          "execution_count": 12
        }
      ]
    },
    {
      "cell_type": "code",
      "source": [
        "#Q12 Use your dictionary to find the synonym of the following words\n",
        "# Awesome, Easy, Small, Old\n",
        "# Accessing synonyms using the dictionary\n",
        "synonym_awesome = synonyms_dic.get(\"Awesome\", [])\n",
        "synonym_easy = synonyms_dic.get(\"Easy\", [])\n",
        "synonym_small = synonyms_dic.get(\"Small\", [])\n",
        "synonym_old = synonyms_dic.get(\"Old\", [])\n",
        "\n",
        "# Printing synonyms\n",
        "print(\"Synonym of Awesome:\", synonym_awesome)\n",
        "print(\"Synonym of Easy:\", synonym_easy)\n",
        "print(\"Synonym of Small:\", synonym_small)\n",
        "print(\"Synonym of Old:\", synonym_old)"
      ],
      "metadata": {
        "colab": {
          "base_uri": "https://localhost:8080/"
        },
        "id": "fyiEINKP4OKW",
        "outputId": "474edecd-9fdc-41d5-9411-3232eb7431a3"
      },
      "execution_count": null,
      "outputs": [
        {
          "output_type": "stream",
          "name": "stdout",
          "text": [
            "Synonym of Awesome: ['Amazing', 'Fantastic', 'Incredible', 'Outstanding']\n",
            "Synonym of Easy: ['Simple', 'Effortless', 'Uncomplicated', 'Straightforward']\n",
            "Synonym of Small: ['Little', 'Tiny', 'Miniature', 'Petite']\n",
            "Synonym of Old: []\n"
          ]
        }
      ]
    },
    {
      "cell_type": "code",
      "source": [
        "#Q13 Delete everything from synonyms_dic\n",
        "synonyms_dic.clear()\n",
        "print(synonyms_dic)"
      ],
      "metadata": {
        "colab": {
          "base_uri": "https://localhost:8080/"
        },
        "id": "jqnr2hZg4Zqs",
        "outputId": "545082e7-120a-4627-e16f-a31a726b44a7"
      },
      "execution_count": null,
      "outputs": [
        {
          "output_type": "stream",
          "name": "stdout",
          "text": [
            "{}\n"
          ]
        }
      ]
    },
    {
      "cell_type": "code",
      "source": [
        "#Q14 Print all values in synonyms_dic\n",
        "synonyms_dic.values()"
      ],
      "metadata": {
        "colab": {
          "base_uri": "https://localhost:8080/"
        },
        "id": "xFyQERpw4f34",
        "outputId": "f5f7a64b-f07f-4bad-9d89-7f7484f862bf"
      },
      "execution_count": null,
      "outputs": [
        {
          "output_type": "execute_result",
          "data": {
            "text/plain": [
              "dict_values([])"
            ]
          },
          "metadata": {},
          "execution_count": 17
        }
      ]
    },
    {
      "cell_type": "code",
      "source": [
        "#Q15 Convert the below two lists into dictionary\n",
        "Keys=[\"True\",\"False\"]\n",
        "Values=[1,0]\n",
        "answer={'True:' '1', 'False:' '0'}\n",
        "answer"
      ],
      "metadata": {
        "colab": {
          "base_uri": "https://localhost:8080/"
        },
        "id": "l-vkq1eu4lMK",
        "outputId": "719e57f4-466d-49d0-9437-ea86653065e4"
      },
      "execution_count": null,
      "outputs": [
        {
          "output_type": "execute_result",
          "data": {
            "text/plain": [
              "{'False:0', 'True:1'}"
            ]
          },
          "metadata": {},
          "execution_count": 18
        }
      ]
    },
    {
      "cell_type": "code",
      "source": [
        "#Q16 Sum all the values in the following dictionary\n",
        "income={'Jan':1000,'Feb':1500,'Mar':980,'April':1000}\n",
        "total_income = sum(income.values())\n",
        "print(\"Total income:\", total_income)"
      ],
      "metadata": {
        "colab": {
          "base_uri": "https://localhost:8080/"
        },
        "id": "9DhkEkAE4rNI",
        "outputId": "79c8460e-a068-4071-ae6a-defbe01f9689"
      },
      "execution_count": null,
      "outputs": [
        {
          "output_type": "stream",
          "name": "stdout",
          "text": [
            "Total income: 4480\n"
          ]
        }
      ]
    },
    {
      "cell_type": "code",
      "source": [
        "#Q17 Create the following dictionary encryption={10:\"hungry\", 101:\"am\", 110:\"I\",\n",
        "# What should be the decryption of the following code \"110 101 10 1011 110 1001 1"
      ],
      "metadata": {
        "id": "I6fLBZ0s4vRQ"
      },
      "execution_count": null,
      "outputs": []
    }
  ],
  "metadata": {
    "kernelspec": {
      "display_name": "Python 3 (ipykernel)",
      "language": "python",
      "name": "python3"
    },
    "language_info": {
      "codemirror_mode": {
        "name": "ipython",
        "version": 3
      },
      "file_extension": ".py",
      "mimetype": "text/x-python",
      "name": "python",
      "nbconvert_exporter": "python",
      "pygments_lexer": "ipython3",
      "version": "3.9.12"
    },
    "colab": {
      "provenance": []
    }
  },
  "nbformat": 4,
  "nbformat_minor": 0
}